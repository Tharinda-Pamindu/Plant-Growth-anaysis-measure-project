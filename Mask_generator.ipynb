{
 "cells": [
  {
   "cell_type": "markdown",
   "id": "4dc4d11c-5712-4c68-b3f0-d68c5b8a3d29",
   "metadata": {
    "jp-MarkdownHeadingCollapsed": true
   },
   "source": [
    "## **Mask Generetor**"
   ]
  },
  {
   "cell_type": "code",
   "execution_count": 6,
   "id": "cba7e00b-9ec0-43a2-8e17-fa08425e3f95",
   "metadata": {},
   "outputs": [],
   "source": [
    "import cv2\n",
    "import numpy as np\n",
    "\n",
    "def extract_mask_threshold(image_path):\n",
    "    # Load the image\n",
    "    img = cv2.imread(image_path)\n",
    "\n",
    "    # Convert to HSV color space (often better for color-based segmentation)\n",
    "    hsv = cv2.cvtColor(img, cv2.COLOR_BGR2HSV)\n",
    "\n",
    "    # Define lower and upper bounds for green (common color of plants)\n",
    "    lower_green = np.array([30, 50, 50])\n",
    "    upper_green = np.array([90, 255, 255])\n",
    "\n",
    "    # Threshold the HSV image to get only green colors\n",
    "    mask = cv2.inRange(hsv, lower_green, upper_green)\n",
    "\n",
    "    return mask\n",
    "\n",
    "# Example usage:\n",
    "image_path = 'P1/D6/Stage 1/IMG_6866.jpg'\n",
    "mask_thresholded = extract_mask_threshold(image_path)\n",
    "cv2.imwrite(\"mask.jpg\", mask_thresholded)\n",
    "cv2.imshow('Thresholded Mask', mask_thresholded)\n",
    "cv2.waitKey(0)\n",
    "cv2.destroyAllWindows()"
   ]
  },
  {
   "cell_type": "markdown",
   "id": "3e43adf4-6257-4ba2-ba7c-35d97952947c",
   "metadata": {
    "jp-MarkdownHeadingCollapsed": true
   },
   "source": [
    "## **Opened mask generator**"
   ]
  },
  {
   "cell_type": "code",
   "execution_count": 16,
   "id": "e78b7dd8-70e4-443b-a292-53481876ce15",
   "metadata": {},
   "outputs": [],
   "source": [
    "import cv2\n",
    "import numpy as np\n",
    "\n",
    "def extract_mask_threshold(image_path):\n",
    "    # Load the image\n",
    "    img = cv2.imread(image_path)\n",
    "\n",
    "    # Convert to HSV color space (often better for color-based segmentation)\n",
    "    hsv = cv2.cvtColor(img, cv2.COLOR_BGR2HSV)\n",
    "\n",
    "    # Define lower and upper bounds for green (common color of plants)\n",
    "    lower_green = np.array([30, 50, 50])\n",
    "    upper_green = np.array([90, 255, 255])\n",
    "\n",
    "    # Threshold the HSV image to get only green colors\n",
    "    mask = cv2.inRange(hsv, lower_green, upper_green)\n",
    "\n",
    "    # Define a kernel for morphological operations\n",
    "    kernel = np.ones((5, 5), np.uint8)\n",
    "\n",
    "    # Apply morphological opening to remove small noise\n",
    "    mask_opened = cv2.morphologyEx(mask, cv2.MORPH_OPEN, kernel)\n",
    "\n",
    "    return mask_opened\n",
    "\n",
    "# Example usage:\n",
    "image_path = 'P1/D5/Stage 1/IMG_6753.jpg'\n",
    "mask_thresholded = extract_mask_threshold(image_path)\n",
    "\n",
    "# Save and display the mask\n",
    "cv2.imwrite(\"mask_opened.jpg\", mask_thresholded)\n",
    "cv2.imshow('Thresholded Mas3k with Opening', mask_thresholded)\n",
    "cv2.waitKey(0)\n",
    "cv2.destroyAllWindows()"
   ]
  },
  {
   "cell_type": "markdown",
   "id": "692df111-66d5-4090-bdf5-7253d11db392",
   "metadata": {
    "jp-MarkdownHeadingCollapsed": true
   },
   "source": [
    "## **Closed mask generator**"
   ]
  },
  {
   "cell_type": "code",
   "execution_count": 10,
   "id": "620587f5-3dcc-4595-ae75-42902f0a1c7f",
   "metadata": {},
   "outputs": [],
   "source": [
    "import cv2\n",
    "import numpy as np\n",
    "\n",
    "def extract_mask_threshold(image_path):\n",
    "    # Load the image\n",
    "    img = cv2.imread(image_path)\n",
    "\n",
    "    # Convert to HSV color space (often better for color-based segmentation)\n",
    "    hsv = cv2.cvtColor(img, cv2.COLOR_BGR2HSV)\n",
    "\n",
    "    # Define lower and upper bounds for green (common color of plants)\n",
    "    lower_green = np.array([30, 50, 50])\n",
    "    upper_green = np.array([90, 255, 255])\n",
    "\n",
    "    # Threshold the HSV image to get only green colors\n",
    "    mask = cv2.inRange(hsv, lower_green, upper_green)\n",
    "\n",
    "    # Define a kernel for morphological operations\n",
    "    kernel = np.ones((5, 5), np.uint8)\n",
    "\n",
    "    # Apply morphological closing to fill small holes in the mask\n",
    "    mask_closed = cv2.morphologyEx(mask, cv2.MORPH_CLOSE, kernel)\n",
    "\n",
    "    return mask_closed\n",
    "\n",
    "# Example usage:\n",
    "image_path = 'P1/D6/Stage 1/IMG_6864.jpg'\n",
    "mask_thresholded = extract_mask_threshold(image_path)\n",
    "\n",
    "# Save and display the mask\n",
    "cv2.imwrite(\"mask_closed.jpg\", mask_thresholded)\n",
    "cv2.imshow('Thresholded Mask with Closing', mask_thresholded)\n",
    "cv2.waitKey(0)\n",
    "cv2.destroyAllWindows()"
   ]
  }
 ],
 "metadata": {
  "kernelspec": {
   "display_name": "Python 3 (ipykernel)",
   "language": "python",
   "name": "python3"
  },
  "language_info": {
   "codemirror_mode": {
    "name": "ipython",
    "version": 3
   },
   "file_extension": ".py",
   "mimetype": "text/x-python",
   "name": "python",
   "nbconvert_exporter": "python",
   "pygments_lexer": "ipython3",
   "version": "3.12.7"
  }
 },
 "nbformat": 4,
 "nbformat_minor": 5
}
