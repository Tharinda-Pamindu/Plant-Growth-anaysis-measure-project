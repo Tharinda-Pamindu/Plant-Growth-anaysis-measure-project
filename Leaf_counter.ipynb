{
 "cells": [
  {
   "cell_type": "code",
   "execution_count": 7,
   "id": "c2997d1c-13c3-4350-a51b-183cab6754b1",
   "metadata": {},
   "outputs": [
    {
     "name": "stdout",
     "output_type": "stream",
     "text": [
      "Number of leaves: 2\n"
     ]
    }
   ],
   "source": [
    "import cv2\n",
    "import numpy as np\n",
    "\n",
    "def count_leaves(image_path):\n",
    "    # Load the image\n",
    "    img = cv2.imread(image_path)\n",
    "    original_image = img.copy()\n",
    "\n",
    "    # Convert to HSV color space\n",
    "    hsv = cv2.cvtColor(img, cv2.COLOR_BGR2HSV)\n",
    "\n",
    "    # Define lower and upper bounds for green (common color of leaves)\n",
    "    lower_green = np.array([30, 40, 40])  # Adjust these values as needed\n",
    "    upper_green = np.array([90, 255, 255])\n",
    "\n",
    "    # Threshold the HSV image to get only green colors\n",
    "    mask = cv2.inRange(hsv, lower_green, upper_green)\n",
    "\n",
    "    # Apply morphological operations to clean up the mask\n",
    "    kernel = np.ones((5, 5), np.uint8)\n",
    "    mask = cv2.morphologyEx(mask, cv2.MORPH_CLOSE, kernel)\n",
    "    mask = cv2.morphologyEx(mask, cv2.MORPH_OPEN, kernel)\n",
    "\n",
    "    # Find contours in the mask\n",
    "    contours, _ = cv2.findContours(mask, cv2.RETR_EXTERNAL, cv2.CHAIN_APPROX_SIMPLE)\n",
    "\n",
    "    # Initialize leaf count\n",
    "    leaf_count = 0\n",
    "\n",
    "    # Loop through contours and count leaves\n",
    "    for contour in contours:\n",
    "        area = cv2.contourArea(contour)\n",
    "        if area > 100:  # Filter out small contours (adjust this threshold as needed)\n",
    "            leaf_count += 1\n",
    "            # Optionally draw the contour on the original image\n",
    "            cv2.drawContours(original_image, [contour], -1, (0, 255, 0), 10)\n",
    "\n",
    "    # Display the results\n",
    "    cv2.putText(original_image, f'Leaf Count: {leaf_count}', (10, 150), \n",
    "                cv2.FONT_HERSHEY_SIMPLEX, 5, (255, 0, 0), 10)\n",
    "\n",
    "    cv2.imshow('Original Image', original_image)\n",
    "    #cv2.imshow('Mask', mask)\n",
    "    cv2.waitKey(0)\n",
    "    cv2.destroyAllWindows()\n",
    "\n",
    "    return leaf_count\n",
    "\n",
    "# Example usage\n",
    "image_path = 'P1/D5/Stage 1/IMG_6729.jpg'  # Replace with your image path\n",
    "leaf_count = count_leaves(image_path)\n",
    "print(f'Number of leaves: {leaf_count}')"
   ]
  }
 ],
 "metadata": {
  "kernelspec": {
   "display_name": "Python 3 (ipykernel)",
   "language": "python",
   "name": "python3"
  },
  "language_info": {
   "codemirror_mode": {
    "name": "ipython",
    "version": 3
   },
   "file_extension": ".py",
   "mimetype": "text/x-python",
   "name": "python",
   "nbconvert_exporter": "python",
   "pygments_lexer": "ipython3",
   "version": "3.12.7"
  }
 },
 "nbformat": 4,
 "nbformat_minor": 5
}
