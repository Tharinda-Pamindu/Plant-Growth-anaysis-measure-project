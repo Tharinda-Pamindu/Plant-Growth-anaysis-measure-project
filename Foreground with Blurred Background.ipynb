{
 "cells": [
  {
   "cell_type": "code",
   "execution_count": 8,
   "id": "258b2388-06be-4456-957e-7ede0e0488f6",
   "metadata": {},
   "outputs": [],
   "source": [
    "import cv2\n",
    "import numpy as np\n",
    "\n",
    "# Read the image\n",
    "image = cv2.imread('images/growth/4.jpg')\n",
    "\n",
    "#Convert to Grayscale\n",
    "gray_image = cv2.cvtColor(image, cv2.COLOR_BGR2GRAY)\n",
    "\n",
    "#Apply Gaussian Blurring\n",
    "blurred_image = cv2.GaussianBlur(gray_image, (5, 5), 0)\n",
    "\n",
    "#Edge Detection\n",
    "edges = cv2.Canny(blurred_image, 100, 200)\n",
    "\n",
    "#Contour Detection\n",
    "contours, hierarchy = cv2.findContours(edges, cv2.RETR_EXTERNAL, cv2.CHAIN_APPROX_SIMPLE)\n",
    "\n",
    "#Create a Mask\n",
    "mask = cv2.drawContours(np.zeros_like(gray_image), contours, -1, (255), thickness=cv2.FILLED)\n",
    "\n",
    "#Blur the Background\n",
    "background_blurred = cv2.GaussianBlur(image, (15, 15), 0)\n",
    "\n",
    "#Combine Foreground and Background\n",
    "foreground = cv2.bitwise_and(image, image, mask=mask)\n",
    "background = cv2.bitwise_and(background_blurred, background_blurred, mask=cv2.bitwise_not(mask))\n",
    "final_output = cv2.add(foreground, background)\n",
    "\n",
    "#Display the Result\n",
    "cv2.imshow('Foreground with Blurred Background', final_output)\n",
    "cv2.imwrite('final_output.jpg',final_output)\n",
    "cv2.waitKey(0)\n",
    "cv2.destroyAllWindows()"
   ]
  },
  {
   "cell_type": "code",
   "execution_count": null,
   "id": "a29e4279-742d-4c11-a7f5-561269ad0999",
   "metadata": {},
   "outputs": [],
   "source": [
    "import cv2\n",
    "import numpy as np\n",
    "\n",
    "def analyze_plant_region(image_path):\n",
    "    #Image Acquisition\n",
    "    image = cv2.imread(image_path)\n",
    "    if image is None:\n",
    "        print(\"Error: Image not found.\")\n",
    "        return\n",
    "\n",
    "    #Preprocessing\n",
    "    hsv_image = cv2.cvtColor(image, cv2.COLOR_BGR2HSV)\n",
    "    blurred_image = cv2.GaussianBlur(hsv_image, (5, 5), 0)\n",
    "\n",
    "    #Output Results\n",
    "    cv2.imshow('Blurred Image', blurred_image)  # Show the blurred image for debugging\n",
    "    cv2.waitKey(0)\n",
    "    cv2.destroyAllWindows()\n",
    "\n",
    "# Example usage\n",
    "analyze_plant_region(image_path)"
   ]
  }
 ],
 "metadata": {
  "kernelspec": {
   "display_name": "Python 3 (ipykernel)",
   "language": "python",
   "name": "python3"
  },
  "language_info": {
   "codemirror_mode": {
    "name": "ipython",
    "version": 3
   },
   "file_extension": ".py",
   "mimetype": "text/x-python",
   "name": "python",
   "nbconvert_exporter": "python",
   "pygments_lexer": "ipython3",
   "version": "3.12.7"
  }
 },
 "nbformat": 4,
 "nbformat_minor": 5
}
