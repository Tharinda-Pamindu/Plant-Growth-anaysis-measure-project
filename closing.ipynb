{
 "cells": [
  {
   "cell_type": "code",
   "execution_count": 3,
   "id": "1c440b2d-3159-4952-b49a-e5360f8d440e",
   "metadata": {},
   "outputs": [],
   "source": [
    "import cv2\n",
    "import numpy as np\n",
    "\n",
    "def apply_closing(mask, kernel_size=(5, 5)):\n",
    "    \n",
    "    # Define a kernel for morphological operations\n",
    "    kernel = np.ones(kernel_size, np.uint8)\n",
    "\n",
    "    # Apply morphological closing\n",
    "    mask_closed = cv2.morphologyEx(mask, cv2.MORPH_CLOSE, kernel)\n",
    "\n",
    "    return mask_closed\n",
    "\n",
    "def extract_mask_threshold(image_path):\n",
    "    # Load the image\n",
    "    img = cv2.imread(image_path)\n",
    "\n",
    "    # Convert to HSV color space (often better for color-based segmentation)\n",
    "    hsv = cv2.cvtColor(img, cv2.COLOR_BGR2HSV)\n",
    "\n",
    "    # Define lower and upper bounds for green (common color of plants)\n",
    "    lower_green = np.array([30, 50, 50])\n",
    "    upper_green = np.array([90, 255, 255])\n",
    "\n",
    "    # Threshold the HSV image to get only green colors\n",
    "    mask = cv2.inRange(hsv, lower_green, upper_green)\n",
    "\n",
    "    # Apply closing to the mask\n",
    "    mask_closed = apply_closing(mask)\n",
    "\n",
    "    return mask_closed\n",
    "\n",
    "# Example usage:\n",
    "image_path = 'P1/D6/Stage 1/IMG_6866.jpg'\n",
    "mask_thresholded = extract_mask_threshold(image_path)\n",
    "\n",
    "# Save and display the mask\n",
    "#cv2.imwrite(\"mask_closed.jpg\", mask_thresholded)\n",
    "cv2.imshow('Thresholded Mask with Closing', mask_thresholded)\n",
    "cv2.waitKey(0)\n",
    "cv2.destroyAllWindows()"
   ]
  },
  {
   "cell_type": "code",
   "execution_count": null,
   "id": "fa0b6efb-5680-4031-95d5-700c95ad6cb7",
   "metadata": {},
   "outputs": [],
   "source": []
  }
 ],
 "metadata": {
  "kernelspec": {
   "display_name": "Python 3 (ipykernel)",
   "language": "python",
   "name": "python3"
  },
  "language_info": {
   "codemirror_mode": {
    "name": "ipython",
    "version": 3
   },
   "file_extension": ".py",
   "mimetype": "text/x-python",
   "name": "python",
   "nbconvert_exporter": "python",
   "pygments_lexer": "ipython3",
   "version": "3.12.7"
  }
 },
 "nbformat": 4,
 "nbformat_minor": 5
}
