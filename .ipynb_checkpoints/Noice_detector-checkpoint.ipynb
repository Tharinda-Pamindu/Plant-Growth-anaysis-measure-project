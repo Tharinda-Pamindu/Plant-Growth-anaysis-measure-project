{
 "cells": [
  {
   "cell_type": "markdown",
   "id": "f2a8bccc-792a-4be6-bc6a-a8ed19d255b0",
   "metadata": {
    "jp-MarkdownHeadingCollapsed": true
   },
   "source": [
    "## Noice detector with output grayscale image"
   ]
  },
  {
   "cell_type": "code",
   "execution_count": 1,
   "id": "4883b46d-9964-49e5-a113-404e19e1e5d4",
   "metadata": {},
   "outputs": [],
   "source": [
    "import cv2\n",
    "import numpy as np\n",
    "import matplotlib.pyplot as plt\n",
    "\n",
    "def detect_noise(image_path):\n",
    "    # Step 1: Read the image\n",
    "    image = cv2.imread(image_path)\n",
    "    if image is None:\n",
    "        print(\"Error: Image not found.\")\n",
    "        return\n",
    "\n",
    "    # Step 2: Convert to grayscale\n",
    "    gray_image = cv2.cvtColor(image, cv2.COLOR_BGR2GRAY)\n",
    "\n",
    "    # Step 3: Apply a median filter\n",
    "    filtered_image = cv2.medianBlur(gray_image, 5)\n",
    "\n",
    "    # Step 4: Calculate noise level\n",
    "    noise_mask = cv2.absdiff(gray_image, filtered_image)\n",
    "    _, noise_mask = cv2.threshold(noise_mask, 30, 255, cv2.THRESH_BINARY)\n",
    "\n",
    "    # Step 5: Display results\n",
    "    plt.figure(figsize=(12, 6))\n",
    "    plt.subplot(1, 3, 1)\n",
    "    plt.title('Original Image')\n",
    "    plt.imshow(cv2.cvtColor(image, cv2.COLOR_BGR2RGB))\n",
    "    plt.axis('off')\n",
    "\n",
    "    plt.subplot(1, 3, 2)\n",
    "    plt.title('Filtered Image')\n",
    "    plt.imshow(filtered_image, cmap='gray')\n",
    "    plt.axis('off')\n",
    "\n",
    "    plt.subplot(1, 3, 3)\n",
    "    plt.title('Noise Detection')\n",
    "    plt.imshow(noise_mask, cmap='gray')\n",
    "    plt.axis('off')\n",
    "\n",
    "    plt.show()"
   ]
  },
  {
   "cell_type": "code",
   "execution_count": 2,
   "id": "034511c4-c83f-4390-8aa0-00cccf58dbdc",
   "metadata": {},
   "outputs": [],
   "source": [
    "#detect_noise('growth/1.jpg')"
   ]
  },
  {
   "cell_type": "markdown",
   "id": "3f17e689-a016-44c7-9452-ed29bb69768a",
   "metadata": {
    "jp-MarkdownHeadingCollapsed": true
   },
   "source": [
    "## Noice detector with BGR image output"
   ]
  },
  {
   "cell_type": "code",
   "execution_count": 3,
   "id": "fa1e6e84-6cbb-411c-bc1e-daa11b6a1254",
   "metadata": {},
   "outputs": [],
   "source": [
    "import cv2\n",
    "import numpy as np\n",
    "import matplotlib.pyplot as plt\n",
    "\n",
    "def detect_noise(image_path):\n",
    "    # Step 1: Read the image\n",
    "    image = cv2.imread(image_path)\n",
    "    if image is None:\n",
    "        print(\"Error: Image not found.\")\n",
    "        return\n",
    "\n",
    "    # Step 2: Split the image into its color channels\n",
    "    b, g, r = cv2.split(image)\n",
    "\n",
    "    # Step 3: Apply a median filter to each channel\n",
    "    filtered_b = cv2.medianBlur(b, 5)\n",
    "    filtered_g = cv2.medianBlur(g, 5)\n",
    "    filtered_r = cv2.medianBlur(r, 5)\n",
    "\n",
    "    # Step 4: Merge the filtered channels back into a color image\n",
    "    filtered_image = cv2.merge((filtered_b, filtered_g, filtered_r))\n",
    "\n",
    "    # Step 5: Calculate noise level for each channel\n",
    "    noise_mask_b = cv2.absdiff(b, filtered_b)\n",
    "    noise_mask_g = cv2.absdiff(g, filtered_g)\n",
    "    noise_mask_r = cv2.absdiff(r, filtered_r)\n",
    "\n",
    "    # Combine the noise masks into a single mask\n",
    "    noise_mask = cv2.max(noise_mask_b, cv2.max(noise_mask_g, noise_mask_r))\n",
    "    _, noise_mask = cv2.threshold(noise_mask, 30, 255, cv2.THRESH_BINARY)\n",
    "\n",
    "    # Step 6: Display results\n",
    "    plt.figure(figsize=(12, 6))\n",
    "    plt.subplot(1, 3, 1)\n",
    "    plt.title('Original Image')\n",
    "    plt.imshow(cv2.cvtColor(image, cv2.COLOR_BGR2RGB))\n",
    "    plt.axis('off')\n",
    "\n",
    "    plt.subplot(1, 3, 2)\n",
    "    plt.title('Filtered Image')\n",
    "    plt.imshow(cv2.cvtColor(filtered_image, cv2.COLOR_BGR2RGB))\n",
    "    plt.axis('off')\n",
    "\n",
    "    plt.subplot(1, 3, 3)\n",
    "    plt.title('Noise Detection')\n",
    "    plt.imshow(noise_mask, cmap='gray')\n",
    "    plt.axis('off')\n",
    "\n",
    "    plt.show()"
   ]
  },
  {
   "cell_type": "code",
   "execution_count": 4,
   "id": "fb3c6d8f-5a5b-49b0-9ad0-391fecca210e",
   "metadata": {},
   "outputs": [],
   "source": [
    "#detect_noise('growth/1.jpg')"
   ]
  },
  {
   "cell_type": "markdown",
   "id": "fc7e89ef-7ec4-4c6e-ac46-08fba20aa259",
   "metadata": {
    "jp-MarkdownHeadingCollapsed": true
   },
   "source": [
    "## Noice detector and remover with BGR image output"
   ]
  },
  {
   "cell_type": "code",
   "execution_count": 5,
   "id": "e7ec4d66-aefe-4213-8ad6-82613abbba73",
   "metadata": {},
   "outputs": [],
   "source": [
    "import cv2\n",
    "import numpy as np\n",
    "import matplotlib.pyplot as plt\n",
    "\n",
    "def detect_and_remove_noise(image_path):\n",
    "    # Step 1: Read the image\n",
    "    image = cv2.imread(image_path)\n",
    "    if image is None:\n",
    "        print(\"Error: Image not found.\")\n",
    "        return\n",
    "\n",
    "    # Step 2: Split the image into its color channels\n",
    "    b, g, r = cv2.split(image)\n",
    "\n",
    "    # Step 3: Apply a median filter to each channel to remove noise\n",
    "    filtered_b = cv2.medianBlur(b, 5)\n",
    "    filtered_g = cv2.medianBlur(g, 5)\n",
    "    filtered_r = cv2.medianBlur(r, 5)\n",
    "\n",
    "    # Step 4: Merge the filtered channels back into a color image\n",
    "    filtered_image = cv2.merge((filtered_b, filtered_g, filtered_r))\n",
    "\n",
    "    # Step 5: Calculate noise level for each channel\n",
    "    noise_mask_b = cv2.absdiff(b, filtered_b)\n",
    "    noise_mask_g = cv2.absdiff(g, filtered_g)\n",
    "    noise_mask_r = cv2.absdiff(r, filtered_r)\n",
    "\n",
    "    # Combine the noise masks into a single mask\n",
    "    noise_mask = cv2.max(noise_mask_b, cv2.max(noise_mask_g, noise_mask_r))\n",
    "    _, noise_mask = cv2.threshold(noise_mask, 30, 255, cv2.THRESH_BINARY)\n",
    "\n",
    "    # Step 6: Display results\n",
    "    plt.figure(figsize=(12, 6))\n",
    "    plt.subplot(1, 3, 1)\n",
    "    plt.title('Original Image')\n",
    "    plt.imshow(cv2.cvtColor(image, cv2.COLOR_BGR2RGB))\n",
    "    plt.axis('off')\n",
    "\n",
    "    plt.subplot(1, 3, 2)\n",
    "    plt.title('Filtered Image (Noise Removed)')\n",
    "    plt.imshow(cv2.cvtColor(filtered_image, cv2.COLOR_BGR2RGB))\n",
    "    plt.axis('off')\n",
    "\n",
    "    plt.subplot(1, 3, 3)\n",
    "    plt.title('Noise Detection Mask')\n",
    "    plt.imshow(noise_mask, cmap='gray')\n",
    "    plt.axis('off')\n",
    "\n",
    "    plt.show()\n",
    "\n",
    "    # Optionally, save the filtered image\n",
    "    cv2.imwrite('filtered_image.jpg', filtered_image)"
   ]
  },
  {
   "cell_type": "code",
   "execution_count": 6,
   "id": "1feda78a-1c94-4c9e-9ec3-23bbcaf4e2fd",
   "metadata": {},
   "outputs": [],
   "source": [
    "#detect_and_remove_noise('growth/1.jpg')"
   ]
  }
 ],
 "metadata": {
  "kernelspec": {
   "display_name": "Python 3 (ipykernel)",
   "language": "python",
   "name": "python3"
  },
  "language_info": {
   "codemirror_mode": {
    "name": "ipython",
    "version": 3
   },
   "file_extension": ".py",
   "mimetype": "text/x-python",
   "name": "python",
   "nbconvert_exporter": "python",
   "pygments_lexer": "ipython3",
   "version": "3.12.7"
  }
 },
 "nbformat": 4,
 "nbformat_minor": 5
}
