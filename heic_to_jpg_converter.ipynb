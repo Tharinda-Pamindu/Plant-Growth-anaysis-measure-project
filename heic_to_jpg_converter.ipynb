{
 "cells": [
  {
   "cell_type": "markdown",
   "id": "bb8fa1e6-28fa-41f3-87dd-c5d6819a4299",
   "metadata": {},
   "source": [
    "## **HEIC to JPG Convertor**"
   ]
  },
  {
   "cell_type": "code",
   "execution_count": 11,
   "id": "8176dc3b-ce11-40c4-bd86-dcbe84c2de30",
   "metadata": {},
   "outputs": [
    {
     "name": "stdout",
     "output_type": "stream",
     "text": [
      "Converting: IMG_6800.heic\n",
      "Saved as: IMG_6800.jpg\n",
      "Converting: IMG_6801.heic\n",
      "Saved as: IMG_6801.jpg\n",
      "Converting: IMG_6802.heic\n",
      "Saved as: IMG_6802.jpg\n",
      "Converting: IMG_6803.heic\n",
      "Saved as: IMG_6803.jpg\n",
      "Converting: IMG_6804.heic\n",
      "Saved as: IMG_6804.jpg\n",
      "Converting: IMG_6805.heic\n",
      "Saved as: IMG_6805.jpg\n",
      "Converting: IMG_6806.heic\n",
      "Saved as: IMG_6806.jpg\n",
      "Converting: IMG_6807.heic\n",
      "Saved as: IMG_6807.jpg\n",
      "Converting: IMG_6808.heic\n",
      "Saved as: IMG_6808.jpg\n",
      "Converting: IMG_6809.heic\n",
      "Saved as: IMG_6809.jpg\n",
      "Converting: IMG_6810.heic\n",
      "Saved as: IMG_6810.jpg\n",
      "Converting: IMG_6811.heic\n",
      "Saved as: IMG_6811.jpg\n",
      "Converting: IMG_6812.heic\n",
      "Saved as: IMG_6812.jpg\n",
      "Converting: IMG_6813.heic\n",
      "Saved as: IMG_6813.jpg\n",
      "Converting: IMG_6814.heic\n",
      "Saved as: IMG_6814.jpg\n",
      "Converting: IMG_6815.heic\n",
      "Saved as: IMG_6815.jpg\n",
      "Converting: IMG_6816.heic\n",
      "Saved as: IMG_6816.jpg\n",
      "Converting: IMG_6817.heic\n",
      "Saved as: IMG_6817.jpg\n",
      "Converting: IMG_6818.heic\n",
      "Saved as: IMG_6818.jpg\n"
     ]
    }
   ],
   "source": [
    "from PIL import Image\n",
    "from pathlib import Path\n",
    "from pillow_heif import register_heif_opener\n",
    "\n",
    "register_heif_opener()\n",
    "\n",
    "def convert_heic_to_jpg(directory):\n",
    "\n",
    "    directory_path = Path(directory)\n",
    "    \n",
    "    for image_file in directory_path.rglob(\"*.[hH][eE][iI][Cc]\"):\n",
    "        print(f\"Converting: {image_file.name}\")\n",
    "        \n",
    "        image = Image.open(image_file)\n",
    "            \n",
    "        new_name = f\"{image_file.stem}.jpg\"\n",
    "        image.convert('RGB').save(new_name)\n",
    "        print(f\"Saved as: {new_name}\")\n",
    "\n",
    "convert_heic_to_jpg(\"P1/D5/Stage 2\")"
   ]
  },
  {
   "cell_type": "code",
   "execution_count": null,
   "id": "2a5969fe-3016-4c3c-9e32-1c3e3ae0850f",
   "metadata": {},
   "outputs": [],
   "source": []
  }
 ],
 "metadata": {
  "kernelspec": {
   "display_name": "Python 3 (ipykernel)",
   "language": "python",
   "name": "python3"
  },
  "language_info": {
   "codemirror_mode": {
    "name": "ipython",
    "version": 3
   },
   "file_extension": ".py",
   "mimetype": "text/x-python",
   "name": "python",
   "nbconvert_exporter": "python",
   "pygments_lexer": "ipython3",
   "version": "3.12.7"
  }
 },
 "nbformat": 4,
 "nbformat_minor": 5
}
