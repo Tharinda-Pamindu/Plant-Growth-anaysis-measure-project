{
 "cells": [
  {
   "cell_type": "code",
   "execution_count": 1,
   "id": "80e555f0-8bba-4b3c-9435-0a5d28b62d21",
   "metadata": {},
   "outputs": [],
   "source": [
    "import cv2\n",
    "\n",
    "# Load image\n",
    "img = cv2.imread('P1/D1/stage 3/IMG_6194.jpg')\n",
    "\n",
    "# Convert to grayscale\n",
    "gray = cv2.cvtColor(img, cv2.COLOR_BGR2GRAY)\n",
    "\n",
    "# Apply Otsu's thresholding\n",
    "_, thresh = cv2.threshold(gray, 0, 255, cv2.THRESH_BINARY_INV + cv2.THRESH_OTSU)\n",
    "\n",
    "cv2.imshow('image', thresh)\n",
    "cv2.waitKey(0)\n",
    "cv2.destroyAllWindows()"
   ]
  },
  {
   "cell_type": "code",
   "execution_count": null,
   "id": "e7b599d3-8bf7-4502-a226-e8c89df56263",
   "metadata": {},
   "outputs": [],
   "source": [
    "import numpy as np\n",
    "import cv2\n",
    "from skimage.segmentation import felzenszwalb\n",
    "from skimage.measure import regionprops\n",
    "import networkx as nx\n",
    "\n",
    "def selective_search(image, scale=100, sigma=0.8, min_size=50):\n",
    "    \"\"\"\n",
    "    Perform selective search on an image to generate bounding boxes.\n",
    "    \"\"\"\n",
    "    # Convert to LAB color space\n",
    "    image_lab = cv2.cvtColor(image, cv2.COLOR_BGR2LAB)\n",
    "\n",
    "    # Initial segmentation\n",
    "    segments = felzenszwalb(image_lab, scale=scale, sigma=sigma, min_size=min_size)\n",
    "\n",
    "    # Create a graph for region adjacency\n",
    "    graph = nx.Graph()\n",
    "    unique_segments = np.unique(segments)\n",
    "    for seg in unique_segments:\n",
    "        graph.add_node(seg)\n",
    "\n",
    "    # Add edges between adjacent regions (simplified example)\n",
    "    for y in range(segments.shape[0] - 1):\n",
    "        for x in range(segments.shape[1] - 1):\n",
    "            current_seg = segments[y, x]\n",
    "            neighbors = [segments[y + 1, x], segments[y, x + 1]]\n",
    "            for neighbor in neighbors:\n",
    "                if current_seg != neighbor:\n",
    "                    graph.add_edge(current_seg, neighbor)\n",
    "\n",
    "    # Generate bounding boxes from the segments\n",
    "    regions = regionprops(segments)\n",
    "    boxes = []\n",
    "    for region in regions:\n",
    "        minr, minc, maxr, maxc = region.bbox\n",
    "        boxes.append((minc, minr, maxc - minc, maxr - minr))  # x, y, width, height\n",
    "\n",
    "    return boxes"
   ]
  },
  {
   "cell_type": "code",
   "execution_count": null,
   "id": "0d010f6e-6d30-4bc8-9a3c-0285e2c39d6a",
   "metadata": {},
   "outputs": [],
   "source": [
    "if __name__ == \"__main__\":\n",
    "    # Load an image\n",
    "    #img = cv2.imread(\"P1/D1/stage 3/IMG_6194.jpg\")  # Replace with your image path\n",
    "    if img is None:\n",
    "        print(\"Error: Failed to load the image.\")\n",
    "        exit()\n",
    "\n",
    "    # Perform selective search\n",
    "    try:\n",
    "        bounding_boxes = selective_search(img)\n",
    "    except Exception as e:\n",
    "        print(f\"Error while performing selective search: {e}\")\n",
    "        exit()\n",
    "\n",
    "    # Display results\n",
    "    for box in bounding_boxes:\n",
    "        x, y, w, h = box\n",
    "        cv2.rectangle(img, (x, y), (x + w, y + h), (255, 0, 0), 2)\n",
    "\n",
    "    # Show the image with bounding boxes\n",
    "    import matplotlib.pyplot as plt\n",
    "    plt.imshow(cv2.cvtColor(img, cv2.COLOR_BGR2RGB))\n",
    "    plt.axis(\"off\")\n",
    "    plt.show()\n",
    "    cv2.imwrite(\"Output.jpg\", img)"
   ]
  },
  {
   "cell_type": "code",
   "execution_count": null,
   "id": "52efbdd3-0eb3-43d8-87d6-0c4b6fca6636",
   "metadata": {},
   "outputs": [],
   "source": [
    "for x,y,w,h in bounding_boxes:\n",
    "    roi = img[y:y+h,x:x+w]\n",
    "    \n",
    "    roi_resized = cv2.resize(roi,(224,224))\n",
    "    \n",
    "    import matplotlib.pyplot as plt\n",
    "    plt.imshow(cv2.cvtColor(img, cv2.COLOR_BGR2RGB))\n",
    "    plt.axis(\"off\")\n",
    "    plt.show()\n",
    "    cv2.imwrite(\"Output.jpg\", img)"
   ]
  }
 ],
 "metadata": {
  "kernelspec": {
   "display_name": "Python 3 (ipykernel)",
   "language": "python",
   "name": "python3"
  },
  "language_info": {
   "codemirror_mode": {
    "name": "ipython",
    "version": 3
   },
   "file_extension": ".py",
   "mimetype": "text/x-python",
   "name": "python",
   "nbconvert_exporter": "python",
   "pygments_lexer": "ipython3",
   "version": "3.12.7"
  }
 },
 "nbformat": 4,
 "nbformat_minor": 5
}
